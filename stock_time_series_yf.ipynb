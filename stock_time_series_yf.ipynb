{
 "cells": [
  {
   "cell_type": "markdown",
   "id": "29a42434-e467-41e4-8048-f29cd6431de1",
   "metadata": {},
   "source": [
    "## Basic stock time series call from Yahoo Finance Library"
   ]
  },
  {
   "cell_type": "code",
   "execution_count": 10,
   "id": "cbdd70d7-e85d-424e-bc62-67bb4ea348be",
   "metadata": {},
   "outputs": [],
   "source": [
    "# step 1: pip install yfinance"
   ]
  },
  {
   "cell_type": "code",
   "execution_count": 11,
   "id": "f8316289-4f55-47e0-8d96-e61683bd3581",
   "metadata": {},
   "outputs": [],
   "source": [
    "# import Yahoo Finance Library for time series data\n",
    "import yfinance as yf\n",
    "\n",
    "# import libraries for data manipulation\n",
    "import pandas as pd\n",
    "import numpy as np"
   ]
  },
  {
   "cell_type": "code",
   "execution_count": 12,
   "id": "0d03a864-e9b9-4c97-bec6-8c1e687b8375",
   "metadata": {},
   "outputs": [
    {
     "data": {
      "text/plain": [
       "yfinance.Ticker object <AAPL>"
      ]
     },
     "execution_count": 12,
     "metadata": {},
     "output_type": "execute_result"
    }
   ],
   "source": [
    "# map ticker as object\n",
    "aapl = yf.Ticker(\"AAPL\")\n",
    "aapl"
   ]
  },
  {
   "cell_type": "code",
   "execution_count": 14,
   "id": "91d9dc43-524b-4b2b-b5da-e01a6033f8c1",
   "metadata": {},
   "outputs": [
    {
     "data": {
      "text/html": [
       "<div>\n",
       "<style scoped>\n",
       "    .dataframe tbody tr th:only-of-type {\n",
       "        vertical-align: middle;\n",
       "    }\n",
       "\n",
       "    .dataframe tbody tr th {\n",
       "        vertical-align: top;\n",
       "    }\n",
       "\n",
       "    .dataframe thead th {\n",
       "        text-align: right;\n",
       "    }\n",
       "</style>\n",
       "<table border=\"1\" class=\"dataframe\">\n",
       "  <thead>\n",
       "    <tr style=\"text-align: right;\">\n",
       "      <th></th>\n",
       "      <th>Open</th>\n",
       "      <th>High</th>\n",
       "      <th>Low</th>\n",
       "      <th>Close</th>\n",
       "      <th>Volume</th>\n",
       "      <th>Dividends</th>\n",
       "      <th>Stock Splits</th>\n",
       "    </tr>\n",
       "    <tr>\n",
       "      <th>Date</th>\n",
       "      <th></th>\n",
       "      <th></th>\n",
       "      <th></th>\n",
       "      <th></th>\n",
       "      <th></th>\n",
       "      <th></th>\n",
       "      <th></th>\n",
       "    </tr>\n",
       "  </thead>\n",
       "  <tbody>\n",
       "    <tr>\n",
       "      <th>2014-09-22</th>\n",
       "      <td>22.942156</td>\n",
       "      <td>23.018780</td>\n",
       "      <td>22.667211</td>\n",
       "      <td>22.775385</td>\n",
       "      <td>211153600</td>\n",
       "      <td>0.0</td>\n",
       "      <td>0</td>\n",
       "    </tr>\n",
       "    <tr>\n",
       "      <th>2014-09-23</th>\n",
       "      <td>22.671719</td>\n",
       "      <td>23.199074</td>\n",
       "      <td>22.658198</td>\n",
       "      <td>23.131464</td>\n",
       "      <td>253608800</td>\n",
       "      <td>0.0</td>\n",
       "      <td>0</td>\n",
       "    </tr>\n",
       "    <tr>\n",
       "      <th>2014-09-24</th>\n",
       "      <td>23.023292</td>\n",
       "      <td>23.178792</td>\n",
       "      <td>22.806940</td>\n",
       "      <td>22.930891</td>\n",
       "      <td>240687200</td>\n",
       "      <td>0.0</td>\n",
       "      <td>0</td>\n",
       "    </tr>\n",
       "    <tr>\n",
       "      <th>2014-09-25</th>\n",
       "      <td>22.651440</td>\n",
       "      <td>22.696512</td>\n",
       "      <td>22.022671</td>\n",
       "      <td>22.056477</td>\n",
       "      <td>400368000</td>\n",
       "      <td>0.0</td>\n",
       "      <td>0</td>\n",
       "    </tr>\n",
       "    <tr>\n",
       "      <th>2014-09-26</th>\n",
       "      <td>22.205214</td>\n",
       "      <td>22.705524</td>\n",
       "      <td>22.175917</td>\n",
       "      <td>22.705524</td>\n",
       "      <td>249482000</td>\n",
       "      <td>0.0</td>\n",
       "      <td>0</td>\n",
       "    </tr>\n",
       "  </tbody>\n",
       "</table>\n",
       "</div>"
      ],
      "text/plain": [
       "                 Open       High        Low      Close     Volume  Dividends  \\\n",
       "Date                                                                           \n",
       "2014-09-22  22.942156  23.018780  22.667211  22.775385  211153600        0.0   \n",
       "2014-09-23  22.671719  23.199074  22.658198  23.131464  253608800        0.0   \n",
       "2014-09-24  23.023292  23.178792  22.806940  22.930891  240687200        0.0   \n",
       "2014-09-25  22.651440  22.696512  22.022671  22.056477  400368000        0.0   \n",
       "2014-09-26  22.205214  22.705524  22.175917  22.705524  249482000        0.0   \n",
       "\n",
       "            Stock Splits  \n",
       "Date                      \n",
       "2014-09-22             0  \n",
       "2014-09-23             0  \n",
       "2014-09-24             0  \n",
       "2014-09-25             0  \n",
       "2014-09-26             0  "
      ]
     },
     "metadata": {},
     "output_type": "display_data"
    },
    {
     "data": {
      "text/html": [
       "<div>\n",
       "<style scoped>\n",
       "    .dataframe tbody tr th:only-of-type {\n",
       "        vertical-align: middle;\n",
       "    }\n",
       "\n",
       "    .dataframe tbody tr th {\n",
       "        vertical-align: top;\n",
       "    }\n",
       "\n",
       "    .dataframe thead th {\n",
       "        text-align: right;\n",
       "    }\n",
       "</style>\n",
       "<table border=\"1\" class=\"dataframe\">\n",
       "  <thead>\n",
       "    <tr style=\"text-align: right;\">\n",
       "      <th></th>\n",
       "      <th>Open</th>\n",
       "      <th>High</th>\n",
       "      <th>Low</th>\n",
       "      <th>Close</th>\n",
       "      <th>Volume</th>\n",
       "      <th>Dividends</th>\n",
       "      <th>Stock Splits</th>\n",
       "    </tr>\n",
       "    <tr>\n",
       "      <th>Date</th>\n",
       "      <th></th>\n",
       "      <th></th>\n",
       "      <th></th>\n",
       "      <th></th>\n",
       "      <th></th>\n",
       "      <th></th>\n",
       "      <th></th>\n",
       "    </tr>\n",
       "  </thead>\n",
       "  <tbody>\n",
       "    <tr>\n",
       "      <th>2019-09-16</th>\n",
       "      <td>53.475246</td>\n",
       "      <td>54.064697</td>\n",
       "      <td>53.433494</td>\n",
       "      <td>54.008205</td>\n",
       "      <td>84632400</td>\n",
       "      <td>0.0</td>\n",
       "      <td>0</td>\n",
       "    </tr>\n",
       "    <tr>\n",
       "      <th>2019-09-17</th>\n",
       "      <td>54.022937</td>\n",
       "      <td>54.234156</td>\n",
       "      <td>53.816627</td>\n",
       "      <td>54.204681</td>\n",
       "      <td>73274800</td>\n",
       "      <td>0.0</td>\n",
       "      <td>0</td>\n",
       "    </tr>\n",
       "    <tr>\n",
       "      <th>2019-09-18</th>\n",
       "      <td>54.293105</td>\n",
       "      <td>54.732738</td>\n",
       "      <td>53.895229</td>\n",
       "      <td>54.713089</td>\n",
       "      <td>101360000</td>\n",
       "      <td>0.0</td>\n",
       "      <td>0</td>\n",
       "    </tr>\n",
       "    <tr>\n",
       "      <th>2019-09-19</th>\n",
       "      <td>54.526428</td>\n",
       "      <td>54.956234</td>\n",
       "      <td>54.123638</td>\n",
       "      <td>54.268547</td>\n",
       "      <td>88242400</td>\n",
       "      <td>0.0</td>\n",
       "      <td>0</td>\n",
       "    </tr>\n",
       "    <tr>\n",
       "      <th>2019-09-20</th>\n",
       "      <td>54.371698</td>\n",
       "      <td>54.661508</td>\n",
       "      <td>53.411387</td>\n",
       "      <td>53.475243</td>\n",
       "      <td>221652400</td>\n",
       "      <td>0.0</td>\n",
       "      <td>0</td>\n",
       "    </tr>\n",
       "  </tbody>\n",
       "</table>\n",
       "</div>"
      ],
      "text/plain": [
       "                 Open       High        Low      Close     Volume  Dividends  \\\n",
       "Date                                                                           \n",
       "2019-09-16  53.475246  54.064697  53.433494  54.008205   84632400        0.0   \n",
       "2019-09-17  54.022937  54.234156  53.816627  54.204681   73274800        0.0   \n",
       "2019-09-18  54.293105  54.732738  53.895229  54.713089  101360000        0.0   \n",
       "2019-09-19  54.526428  54.956234  54.123638  54.268547   88242400        0.0   \n",
       "2019-09-20  54.371698  54.661508  53.411387  53.475243  221652400        0.0   \n",
       "\n",
       "            Stock Splits  \n",
       "Date                      \n",
       "2019-09-16             0  \n",
       "2019-09-17             0  \n",
       "2019-09-18             0  \n",
       "2019-09-19             0  \n",
       "2019-09-20             0  "
      ]
     },
     "metadata": {},
     "output_type": "display_data"
    }
   ],
   "source": [
    "# specify time series start / end dates in \"yyyy-mm-dd\" format\n",
    "aapl_df = aapl.history(start=\"2014-09-22\", end=\"2019-09-22\")\n",
    "\n",
    "# display bookended of the time series\n",
    "# NOTE: Yahoo historical price data is adjusted for splits and dividends, so the price series will not match 'aapl.csv' file\n",
    "# https://help.yahoo.com/kb/adjusted-close-sln28256.html \n",
    "display(aapl_df.head())\n",
    "display(aapl_df.tail())"
   ]
  },
  {
   "cell_type": "code",
   "execution_count": 15,
   "id": "d1feaa3e-1e26-44d8-a351-0a6f4cf4a973",
   "metadata": {},
   "outputs": [
    {
     "data": {
      "text/plain": [
       "'C:\\\\Users\\\\16177\\\\Desktop'"
      ]
     },
     "execution_count": 15,
     "metadata": {},
     "output_type": "execute_result"
    }
   ],
   "source": [
    "pwd"
   ]
  },
  {
   "cell_type": "code",
   "execution_count": 16,
   "id": "dad23924-76df-400e-9097-70267305ecba",
   "metadata": {},
   "outputs": [
    {
     "name": "stdout",
     "output_type": "stream",
     "text": [
      "C:\\Users\\16177\\Desktop\\FinTech\n"
     ]
    }
   ],
   "source": [
    "cd FinTech"
   ]
  },
  {
   "cell_type": "code",
   "execution_count": null,
   "id": "067621e2-48d8-49fd-9fce-32eaed058f4b",
   "metadata": {},
   "outputs": [],
   "source": []
  }
 ],
 "metadata": {
  "kernelspec": {
   "display_name": "Python [conda env:dev] *",
   "language": "python",
   "name": "conda-env-dev-py"
  },
  "language_info": {
   "codemirror_mode": {
    "name": "ipython",
    "version": 3
   },
   "file_extension": ".py",
   "mimetype": "text/x-python",
   "name": "python",
   "nbconvert_exporter": "python",
   "pygments_lexer": "ipython3",
   "version": "3.7.10"
  }
 },
 "nbformat": 4,
 "nbformat_minor": 5
}
